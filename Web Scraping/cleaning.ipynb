{
 "cells": [
  {
   "cell_type": "markdown",
   "id": "df63102c-5064-4467-b006-25f83e73bcf8",
   "metadata": {},
   "source": [
    "**Importing Libraries**"
   ]
  },
  {
   "cell_type": "code",
   "execution_count": 1,
   "id": "7f123e45-786d-4f77-a41b-1977003ec420",
   "metadata": {},
   "outputs": [],
   "source": [
    "import pandas as pd\n",
    "import numpy as np"
   ]
  },
  {
   "cell_type": "code",
   "execution_count": 2,
   "id": "e852d42b-b444-4ad4-bb28-e994e763ca46",
   "metadata": {},
   "outputs": [],
   "source": [
    "# Data loading\n",
    "pm = pd.read_csv(\"puma_men.csv\") #Puma Men\n",
    "pw = pd.read_csv(\"puma_women.csv\") #Puma Women\n",
    "am = pd.read_csv(\"adidas_men.csv\") #Adidas Men\n",
    "aw = pd.read_csv(\"adidas_women.csv\") #Adidas Women\n",
    "nm = pd.read_csv(\"nike_men.csv\")  #Nike Men\n",
    "nw = pd.read_csv(\"nike_women.csv\") #Nike Women\n",
    "sm = pd.read_csv(\"skechers_men.csv\") #Skechers Men\n",
    "sw = pd.read_csv(\"skechers_women.csv\") #Skechers Women"
   ]
  },
  {
   "cell_type": "markdown",
   "id": "832fc104-3fa1-4b4d-88f1-025011a9b4a9",
   "metadata": {},
   "source": [
    "**Data Exploration and Cleaning**"
   ]
  },
  {
   "cell_type": "markdown",
   "id": "4746eeca-b3a9-4223-b4e9-9e9a7f686ab2",
   "metadata": {},
   "source": [
    "Puma data - men"
   ]
  },
  {
   "cell_type": "code",
   "execution_count": 3,
   "id": "8e953ae3-aa06-4a45-a389-02534f11d75b",
   "metadata": {},
   "outputs": [
    {
     "data": {
      "text/html": [
       "<div>\n",
       "<style scoped>\n",
       "    .dataframe tbody tr th:only-of-type {\n",
       "        vertical-align: middle;\n",
       "    }\n",
       "\n",
       "    .dataframe tbody tr th {\n",
       "        vertical-align: top;\n",
       "    }\n",
       "\n",
       "    .dataframe thead th {\n",
       "        text-align: right;\n",
       "    }\n",
       "</style>\n",
       "<table border=\"1\" class=\"dataframe\">\n",
       "  <thead>\n",
       "    <tr style=\"text-align: right;\">\n",
       "      <th></th>\n",
       "      <th>Unnamed: 0</th>\n",
       "      <th>ProductName</th>\n",
       "      <th>ProductPrice</th>\n",
       "      <th>ProductDiscount</th>\n",
       "    </tr>\n",
       "  </thead>\n",
       "  <tbody>\n",
       "    <tr>\n",
       "      <th>0</th>\n",
       "      <td>0</td>\n",
       "      <td>Bridge Comfort Running Shoes For Men</td>\n",
       "      <td>₹2,499</td>\n",
       "      <td>₹1,299</td>\n",
       "    </tr>\n",
       "    <tr>\n",
       "      <th>1</th>\n",
       "      <td>1</td>\n",
       "      <td>Coarse Sneakers For Men</td>\n",
       "      <td>₹4,999</td>\n",
       "      <td>₹2,399</td>\n",
       "    </tr>\n",
       "    <tr>\n",
       "      <th>2</th>\n",
       "      <td>2</td>\n",
       "      <td>Rungryp Sneakers For Men</td>\n",
       "      <td>₹4,999</td>\n",
       "      <td>₹2,350</td>\n",
       "    </tr>\n",
       "    <tr>\n",
       "      <th>3</th>\n",
       "      <td>3</td>\n",
       "      <td>Puma Buzz Sneakers For Men</td>\n",
       "      <td>₹4,499</td>\n",
       "      <td>₹1,299</td>\n",
       "    </tr>\n",
       "    <tr>\n",
       "      <th>4</th>\n",
       "      <td>4</td>\n",
       "      <td>Bridge Comfort Running Shoes For Men</td>\n",
       "      <td>₹2,499</td>\n",
       "      <td>₹1,299</td>\n",
       "    </tr>\n",
       "  </tbody>\n",
       "</table>\n",
       "</div>"
      ],
      "text/plain": [
       "   Unnamed: 0                           ProductName ProductPrice  \\\n",
       "0           0  Bridge Comfort Running Shoes For Men       ₹2,499   \n",
       "1           1               Coarse Sneakers For Men       ₹4,999   \n",
       "2           2              Rungryp Sneakers For Men       ₹4,999   \n",
       "3           3            Puma Buzz Sneakers For Men       ₹4,499   \n",
       "4           4  Bridge Comfort Running Shoes For Men       ₹2,499   \n",
       "\n",
       "  ProductDiscount  \n",
       "0          ₹1,299  \n",
       "1          ₹2,399  \n",
       "2          ₹2,350  \n",
       "3          ₹1,299  \n",
       "4          ₹1,299  "
      ]
     },
     "execution_count": 3,
     "metadata": {},
     "output_type": "execute_result"
    }
   ],
   "source": [
    "pm.head()"
   ]
  },
  {
   "cell_type": "code",
   "execution_count": 4,
   "id": "65d0a2b1-9cb4-4a69-9b40-ce77251887fc",
   "metadata": {},
   "outputs": [
    {
     "data": {
      "text/plain": [
       "(800, 4)"
      ]
     },
     "execution_count": 4,
     "metadata": {},
     "output_type": "execute_result"
    }
   ],
   "source": [
    "pm.shape"
   ]
  },
  {
   "cell_type": "code",
   "execution_count": 5,
   "id": "67550dda-4244-4181-9ea7-524520c1e6de",
   "metadata": {},
   "outputs": [
    {
     "name": "stdout",
     "output_type": "stream",
     "text": [
      "<class 'pandas.core.frame.DataFrame'>\n",
      "RangeIndex: 800 entries, 0 to 799\n",
      "Data columns (total 4 columns):\n",
      " #   Column           Non-Null Count  Dtype \n",
      "---  ------           --------------  ----- \n",
      " 0   Unnamed: 0       800 non-null    int64 \n",
      " 1   ProductName      800 non-null    object\n",
      " 2   ProductPrice     745 non-null    object\n",
      " 3   ProductDiscount  800 non-null    object\n",
      "dtypes: int64(1), object(3)\n",
      "memory usage: 25.1+ KB\n"
     ]
    }
   ],
   "source": [
    "pm.info()"
   ]
  },
  {
   "cell_type": "code",
   "execution_count": 6,
   "id": "f744d43b-2150-49ed-aa43-0dc44cc76adb",
   "metadata": {},
   "outputs": [],
   "source": [
    "#Changing Data Type"
   ]
  },
  {
   "cell_type": "code",
   "execution_count": 7,
   "id": "98dd8eee-9ea1-4803-a191-5edc20802b97",
   "metadata": {},
   "outputs": [],
   "source": [
    "pm['ProductPrice'] = pm['ProductPrice'].astype(object)"
   ]
  },
  {
   "cell_type": "code",
   "execution_count": 8,
   "id": "bf48110a-0790-4fc7-856d-a44876490e83",
   "metadata": {},
   "outputs": [],
   "source": [
    "#Dealing with empty ProductPrice"
   ]
  },
  {
   "cell_type": "code",
   "execution_count": 9,
   "id": "7b723ed1-f9f8-417f-a3a3-96f20514ca1a",
   "metadata": {},
   "outputs": [],
   "source": [
    "pm['ProductPrice'] = pm['ProductPrice'].fillna(pm['ProductDiscount'])"
   ]
  },
  {
   "cell_type": "code",
   "execution_count": 10,
   "id": "ad18fce6-8b1b-432e-b40c-a67b62962480",
   "metadata": {},
   "outputs": [],
   "source": [
    "#Removing Ruppee sign "
   ]
  },
  {
   "cell_type": "code",
   "execution_count": 11,
   "id": "d319a30d-df52-408d-848c-0c156f4f1eda",
   "metadata": {},
   "outputs": [],
   "source": [
    "pm['ProductPrice'] = pm['ProductPrice'].str.replace('₹', '').str.replace(',', '').astype(int)"
   ]
  },
  {
   "cell_type": "code",
   "execution_count": 12,
   "id": "fd2f2bf1-6510-4ed5-b46a-907ab60c65f2",
   "metadata": {},
   "outputs": [],
   "source": [
    "pm['ProductDiscount'] = pm['ProductDiscount'].str.replace('₹', '').str.replace(',', '').astype(int)"
   ]
  },
  {
   "cell_type": "code",
   "execution_count": 13,
   "id": "ef718b1e-3c60-4371-8b55-c391810b7d43",
   "metadata": {},
   "outputs": [],
   "source": [
    "pm = pm.drop(pm.columns[0], axis=1)"
   ]
  },
  {
   "cell_type": "code",
   "execution_count": 14,
   "id": "d81915e1-67e4-4b52-9153-8c8efe9c8518",
   "metadata": {
    "scrolled": true
   },
   "outputs": [
    {
     "name": "stdout",
     "output_type": "stream",
     "text": [
      "<class 'pandas.core.frame.DataFrame'>\n",
      "RangeIndex: 800 entries, 0 to 799\n",
      "Data columns (total 3 columns):\n",
      " #   Column           Non-Null Count  Dtype \n",
      "---  ------           --------------  ----- \n",
      " 0   ProductName      800 non-null    object\n",
      " 1   ProductPrice     800 non-null    int32 \n",
      " 2   ProductDiscount  800 non-null    int32 \n",
      "dtypes: int32(2), object(1)\n",
      "memory usage: 12.6+ KB\n"
     ]
    }
   ],
   "source": [
    "pm.info()"
   ]
  },
  {
   "cell_type": "code",
   "execution_count": 15,
   "id": "7e602a44-459b-4da7-8258-b2ae885762ff",
   "metadata": {},
   "outputs": [],
   "source": [
    "#Removing rows with duplicate ProductName and ProductPrice"
   ]
  },
  {
   "cell_type": "code",
   "execution_count": 16,
   "id": "5270d679-4523-4ec0-8424-91a5b150fd5c",
   "metadata": {},
   "outputs": [],
   "source": [
    "duplicates = pm.duplicated(subset=['ProductName', 'ProductPrice'], keep=False)"
   ]
  },
  {
   "cell_type": "code",
   "execution_count": 17,
   "id": "aa592c32-82b1-498c-a634-e6a67d803eef",
   "metadata": {},
   "outputs": [],
   "source": [
    "pm = pm[~duplicates]"
   ]
  },
  {
   "cell_type": "code",
   "execution_count": 18,
   "id": "3033f265-0f67-4406-bdfa-5d850dae129d",
   "metadata": {},
   "outputs": [
    {
     "name": "stdout",
     "output_type": "stream",
     "text": [
      "<class 'pandas.core.frame.DataFrame'>\n",
      "Index: 400 entries, 2 to 799\n",
      "Data columns (total 3 columns):\n",
      " #   Column           Non-Null Count  Dtype \n",
      "---  ------           --------------  ----- \n",
      " 0   ProductName      400 non-null    object\n",
      " 1   ProductPrice     400 non-null    int32 \n",
      " 2   ProductDiscount  400 non-null    int32 \n",
      "dtypes: int32(2), object(1)\n",
      "memory usage: 9.4+ KB\n"
     ]
    }
   ],
   "source": [
    "pm.info()"
   ]
  },
  {
   "cell_type": "code",
   "execution_count": 19,
   "id": "9ee81442-4811-4acc-a025-38fdcd5bf798",
   "metadata": {},
   "outputs": [
    {
     "data": {
      "text/plain": [
       "(400, 3)"
      ]
     },
     "execution_count": 19,
     "metadata": {},
     "output_type": "execute_result"
    }
   ],
   "source": [
    "pm.shape"
   ]
  },
  {
   "cell_type": "code",
   "execution_count": 20,
   "id": "48c59779-a13c-4919-abfe-d8d6fe0fa728",
   "metadata": {},
   "outputs": [],
   "source": [
    "#Puma data - women"
   ]
  },
  {
   "cell_type": "code",
   "execution_count": 21,
   "id": "85b57294-7b8c-4f25-b612-ad4367c0fcfe",
   "metadata": {},
   "outputs": [
    {
     "data": {
      "text/html": [
       "<div>\n",
       "<style scoped>\n",
       "    .dataframe tbody tr th:only-of-type {\n",
       "        vertical-align: middle;\n",
       "    }\n",
       "\n",
       "    .dataframe tbody tr th {\n",
       "        vertical-align: top;\n",
       "    }\n",
       "\n",
       "    .dataframe thead th {\n",
       "        text-align: right;\n",
       "    }\n",
       "</style>\n",
       "<table border=\"1\" class=\"dataframe\">\n",
       "  <thead>\n",
       "    <tr style=\"text-align: right;\">\n",
       "      <th></th>\n",
       "      <th>Unnamed: 0</th>\n",
       "      <th>ProductName</th>\n",
       "      <th>ProductPrice</th>\n",
       "      <th>ProductDiscount</th>\n",
       "    </tr>\n",
       "  </thead>\n",
       "  <tbody>\n",
       "    <tr>\n",
       "      <th>0</th>\n",
       "      <td>0</td>\n",
       "      <td>Carina Slim Perf Sneakers For Women</td>\n",
       "      <td>₹4,499</td>\n",
       "      <td>₹2,379</td>\n",
       "    </tr>\n",
       "    <tr>\n",
       "      <th>1</th>\n",
       "      <td>1</td>\n",
       "      <td>Cross Wn's Walking Shoes For Women</td>\n",
       "      <td>₹3,999</td>\n",
       "      <td>₹2,119</td>\n",
       "    </tr>\n",
       "    <tr>\n",
       "      <th>2</th>\n",
       "      <td>2</td>\n",
       "      <td>Cross Wn's Running Shoes For Women</td>\n",
       "      <td>₹3,999</td>\n",
       "      <td>₹1,919</td>\n",
       "    </tr>\n",
       "    <tr>\n",
       "      <th>3</th>\n",
       "      <td>3</td>\n",
       "      <td>Agile Trip Wn's Walking Shoes For Women</td>\n",
       "      <td>₹3,499</td>\n",
       "      <td>₹1,679</td>\n",
       "    </tr>\n",
       "    <tr>\n",
       "      <th>4</th>\n",
       "      <td>4</td>\n",
       "      <td>Kardio on Women Sneakers For Women</td>\n",
       "      <td>₹4,499</td>\n",
       "      <td>₹2,379</td>\n",
       "    </tr>\n",
       "  </tbody>\n",
       "</table>\n",
       "</div>"
      ],
      "text/plain": [
       "   Unnamed: 0                              ProductName ProductPrice  \\\n",
       "0           0      Carina Slim Perf Sneakers For Women       ₹4,499   \n",
       "1           1       Cross Wn's Walking Shoes For Women       ₹3,999   \n",
       "2           2       Cross Wn's Running Shoes For Women       ₹3,999   \n",
       "3           3  Agile Trip Wn's Walking Shoes For Women       ₹3,499   \n",
       "4           4       Kardio on Women Sneakers For Women       ₹4,499   \n",
       "\n",
       "  ProductDiscount  \n",
       "0          ₹2,379  \n",
       "1          ₹2,119  \n",
       "2          ₹1,919  \n",
       "3          ₹1,679  \n",
       "4          ₹2,379  "
      ]
     },
     "execution_count": 21,
     "metadata": {},
     "output_type": "execute_result"
    }
   ],
   "source": [
    "pw.head()"
   ]
  },
  {
   "cell_type": "code",
   "execution_count": 22,
   "id": "32f44a3e-61d4-48e6-84be-8236f60d4e00",
   "metadata": {},
   "outputs": [
    {
     "data": {
      "text/plain": [
       "(800, 4)"
      ]
     },
     "execution_count": 22,
     "metadata": {},
     "output_type": "execute_result"
    }
   ],
   "source": [
    "pw.shape"
   ]
  },
  {
   "cell_type": "code",
   "execution_count": 23,
   "id": "22c1e0d9-cecc-4bc8-bfb9-456b381956c6",
   "metadata": {},
   "outputs": [
    {
     "name": "stdout",
     "output_type": "stream",
     "text": [
      "<class 'pandas.core.frame.DataFrame'>\n",
      "RangeIndex: 800 entries, 0 to 799\n",
      "Data columns (total 4 columns):\n",
      " #   Column           Non-Null Count  Dtype \n",
      "---  ------           --------------  ----- \n",
      " 0   Unnamed: 0       800 non-null    int64 \n",
      " 1   ProductName      800 non-null    object\n",
      " 2   ProductPrice     776 non-null    object\n",
      " 3   ProductDiscount  800 non-null    object\n",
      "dtypes: int64(1), object(3)\n",
      "memory usage: 25.1+ KB\n"
     ]
    }
   ],
   "source": [
    "pw.info()"
   ]
  },
  {
   "cell_type": "code",
   "execution_count": 24,
   "id": "ea017ac4-50bc-4f11-89f9-d834b1ddc02a",
   "metadata": {},
   "outputs": [],
   "source": [
    "pw['ProductPrice'] = pw['ProductPrice'].fillna(pw['ProductDiscount'])"
   ]
  },
  {
   "cell_type": "code",
   "execution_count": 25,
   "id": "04c4805b-7979-4ea1-8b66-e03d19c07f8a",
   "metadata": {},
   "outputs": [],
   "source": [
    "pw['ProductPrice'] = pw['ProductPrice'].str.replace('₹', '').str.replace(',', '').astype(int)"
   ]
  },
  {
   "cell_type": "code",
   "execution_count": 26,
   "id": "d6e057ea-ba80-4b8f-a834-749004be0810",
   "metadata": {},
   "outputs": [],
   "source": [
    "pw['ProductDiscount'] = pw['ProductDiscount'].str.replace('₹', '').str.replace(',', '').astype(int)"
   ]
  },
  {
   "cell_type": "code",
   "execution_count": 27,
   "id": "139752c9-dbfe-4ca8-b263-9cf0a0af651d",
   "metadata": {},
   "outputs": [],
   "source": [
    "pw = pw.drop(pw.columns[0], axis=1)"
   ]
  },
  {
   "cell_type": "code",
   "execution_count": 28,
   "id": "5fedc9a7-5468-4c95-86c5-9f6e3847e21c",
   "metadata": {},
   "outputs": [
    {
     "name": "stdout",
     "output_type": "stream",
     "text": [
      "<class 'pandas.core.frame.DataFrame'>\n",
      "RangeIndex: 800 entries, 0 to 799\n",
      "Data columns (total 3 columns):\n",
      " #   Column           Non-Null Count  Dtype \n",
      "---  ------           --------------  ----- \n",
      " 0   ProductName      800 non-null    object\n",
      " 1   ProductPrice     800 non-null    int32 \n",
      " 2   ProductDiscount  800 non-null    int32 \n",
      "dtypes: int32(2), object(1)\n",
      "memory usage: 12.6+ KB\n"
     ]
    }
   ],
   "source": [
    "pw.info()"
   ]
  },
  {
   "cell_type": "code",
   "execution_count": 29,
   "id": "99499dae-9a88-4130-93bd-7ef93f1a8e33",
   "metadata": {},
   "outputs": [],
   "source": [
    "duplicates1 = pw.duplicated(subset=['ProductName', 'ProductPrice'], keep=False)"
   ]
  },
  {
   "cell_type": "code",
   "execution_count": 30,
   "id": "8a90266d-465b-4ce8-866f-22fb83387e29",
   "metadata": {},
   "outputs": [],
   "source": [
    "pw = pw[~duplicates1]"
   ]
  },
  {
   "cell_type": "code",
   "execution_count": 31,
   "id": "03e449fb-f399-4d8a-b563-c975f71da6c9",
   "metadata": {},
   "outputs": [
    {
     "name": "stdout",
     "output_type": "stream",
     "text": [
      "<class 'pandas.core.frame.DataFrame'>\n",
      "Index: 361 entries, 2 to 799\n",
      "Data columns (total 3 columns):\n",
      " #   Column           Non-Null Count  Dtype \n",
      "---  ------           --------------  ----- \n",
      " 0   ProductName      361 non-null    object\n",
      " 1   ProductPrice     361 non-null    int32 \n",
      " 2   ProductDiscount  361 non-null    int32 \n",
      "dtypes: int32(2), object(1)\n",
      "memory usage: 8.5+ KB\n"
     ]
    }
   ],
   "source": [
    "pw.info()"
   ]
  },
  {
   "cell_type": "code",
   "execution_count": 32,
   "id": "2b28145a-43a0-4f0e-abbc-76c086aa4bf8",
   "metadata": {},
   "outputs": [
    {
     "data": {
      "text/plain": [
       "(361, 3)"
      ]
     },
     "execution_count": 32,
     "metadata": {},
     "output_type": "execute_result"
    }
   ],
   "source": [
    "pw.shape"
   ]
  },
  {
   "cell_type": "code",
   "execution_count": 33,
   "id": "0a7f447d-ab08-45e7-8503-d103b3c716ad",
   "metadata": {},
   "outputs": [],
   "source": [
    "#Adidas data - men"
   ]
  },
  {
   "cell_type": "code",
   "execution_count": 34,
   "id": "079eca98-699e-4b8d-890a-498b54fa7e5e",
   "metadata": {},
   "outputs": [
    {
     "data": {
      "text/html": [
       "<div>\n",
       "<style scoped>\n",
       "    .dataframe tbody tr th:only-of-type {\n",
       "        vertical-align: middle;\n",
       "    }\n",
       "\n",
       "    .dataframe tbody tr th {\n",
       "        vertical-align: top;\n",
       "    }\n",
       "\n",
       "    .dataframe thead th {\n",
       "        text-align: right;\n",
       "    }\n",
       "</style>\n",
       "<table border=\"1\" class=\"dataframe\">\n",
       "  <thead>\n",
       "    <tr style=\"text-align: right;\">\n",
       "      <th></th>\n",
       "      <th>Unnamed: 0</th>\n",
       "      <th>ProductName</th>\n",
       "      <th>ProductPrice</th>\n",
       "      <th>ProductDiscount</th>\n",
       "    </tr>\n",
       "  </thead>\n",
       "  <tbody>\n",
       "    <tr>\n",
       "      <th>0</th>\n",
       "      <td>0</td>\n",
       "      <td>Fluo M Running Shoes For Men</td>\n",
       "      <td>₹3,999</td>\n",
       "      <td>₹1,599</td>\n",
       "    </tr>\n",
       "    <tr>\n",
       "      <th>1</th>\n",
       "      <td>1</td>\n",
       "      <td>GlideEase M Running Shoes For Men</td>\n",
       "      <td>₹2,999</td>\n",
       "      <td>₹1,259</td>\n",
       "    </tr>\n",
       "    <tr>\n",
       "      <th>2</th>\n",
       "      <td>2</td>\n",
       "      <td>CyberRun M Running Shoes For Men</td>\n",
       "      <td>₹4,299</td>\n",
       "      <td>₹2,407</td>\n",
       "    </tr>\n",
       "    <tr>\n",
       "      <th>3</th>\n",
       "      <td>3</td>\n",
       "      <td>Runesy M Running Shoes For Men</td>\n",
       "      <td>₹4,299</td>\n",
       "      <td>₹1,679</td>\n",
       "    </tr>\n",
       "    <tr>\n",
       "      <th>4</th>\n",
       "      <td>4</td>\n",
       "      <td>RUNFALCON 3.0 Running Shoes For Men</td>\n",
       "      <td>₹6,599</td>\n",
       "      <td>₹3,959</td>\n",
       "    </tr>\n",
       "  </tbody>\n",
       "</table>\n",
       "</div>"
      ],
      "text/plain": [
       "   Unnamed: 0                          ProductName ProductPrice  \\\n",
       "0           0         Fluo M Running Shoes For Men       ₹3,999   \n",
       "1           1    GlideEase M Running Shoes For Men       ₹2,999   \n",
       "2           2     CyberRun M Running Shoes For Men       ₹4,299   \n",
       "3           3       Runesy M Running Shoes For Men       ₹4,299   \n",
       "4           4  RUNFALCON 3.0 Running Shoes For Men       ₹6,599   \n",
       "\n",
       "  ProductDiscount  \n",
       "0          ₹1,599  \n",
       "1          ₹1,259  \n",
       "2          ₹2,407  \n",
       "3          ₹1,679  \n",
       "4          ₹3,959  "
      ]
     },
     "execution_count": 34,
     "metadata": {},
     "output_type": "execute_result"
    }
   ],
   "source": [
    "am.head()"
   ]
  },
  {
   "cell_type": "code",
   "execution_count": 35,
   "id": "b2a9da92-55a8-41f9-b33a-457232cb13af",
   "metadata": {},
   "outputs": [
    {
     "data": {
      "text/plain": [
       "(800, 4)"
      ]
     },
     "execution_count": 35,
     "metadata": {},
     "output_type": "execute_result"
    }
   ],
   "source": [
    "am.shape"
   ]
  },
  {
   "cell_type": "code",
   "execution_count": 36,
   "id": "0779adda-d473-4022-894f-bdb255f5c059",
   "metadata": {},
   "outputs": [
    {
     "name": "stdout",
     "output_type": "stream",
     "text": [
      "<class 'pandas.core.frame.DataFrame'>\n",
      "RangeIndex: 800 entries, 0 to 799\n",
      "Data columns (total 4 columns):\n",
      " #   Column           Non-Null Count  Dtype \n",
      "---  ------           --------------  ----- \n",
      " 0   Unnamed: 0       800 non-null    int64 \n",
      " 1   ProductName      800 non-null    object\n",
      " 2   ProductPrice     792 non-null    object\n",
      " 3   ProductDiscount  800 non-null    object\n",
      "dtypes: int64(1), object(3)\n",
      "memory usage: 25.1+ KB\n"
     ]
    }
   ],
   "source": [
    "am.info()"
   ]
  },
  {
   "cell_type": "code",
   "execution_count": 37,
   "id": "8ecbda7e-6505-4099-9e10-eaa73fbe5e1a",
   "metadata": {},
   "outputs": [],
   "source": [
    "am['ProductPrice'] = am['ProductPrice'].fillna(am['ProductDiscount'])"
   ]
  },
  {
   "cell_type": "code",
   "execution_count": 38,
   "id": "b1c8e333-93f1-423b-ab07-a4919915d46f",
   "metadata": {},
   "outputs": [],
   "source": [
    "am['ProductPrice'] = am['ProductPrice'].str.replace('₹', '').str.replace(',', '').astype(int)"
   ]
  },
  {
   "cell_type": "code",
   "execution_count": 39,
   "id": "46b942f3-a311-4bba-81d4-e8bc12dafcf2",
   "metadata": {},
   "outputs": [],
   "source": [
    "am['ProductDiscount'] = am['ProductDiscount'].str.replace('₹', '').str.replace(',', '').astype(int)"
   ]
  },
  {
   "cell_type": "code",
   "execution_count": 40,
   "id": "54b32ced-c249-4ca8-91be-7e878d37e6bb",
   "metadata": {},
   "outputs": [],
   "source": [
    "am = am.drop(am.columns[0], axis=1)"
   ]
  },
  {
   "cell_type": "code",
   "execution_count": 41,
   "id": "49a1cab4-440f-4e63-be4d-b3e08693eec8",
   "metadata": {},
   "outputs": [
    {
     "name": "stdout",
     "output_type": "stream",
     "text": [
      "<class 'pandas.core.frame.DataFrame'>\n",
      "RangeIndex: 800 entries, 0 to 799\n",
      "Data columns (total 3 columns):\n",
      " #   Column           Non-Null Count  Dtype \n",
      "---  ------           --------------  ----- \n",
      " 0   ProductName      800 non-null    object\n",
      " 1   ProductPrice     800 non-null    int32 \n",
      " 2   ProductDiscount  800 non-null    int32 \n",
      "dtypes: int32(2), object(1)\n",
      "memory usage: 12.6+ KB\n"
     ]
    }
   ],
   "source": [
    "am.info()"
   ]
  },
  {
   "cell_type": "code",
   "execution_count": 42,
   "id": "21a34621-c9cd-418d-afac-25ffa0fce80b",
   "metadata": {},
   "outputs": [],
   "source": [
    "duplicates2 = am.duplicated(subset=['ProductName', 'ProductPrice'], keep=False)"
   ]
  },
  {
   "cell_type": "code",
   "execution_count": 43,
   "id": "aea79273-0846-4bd7-a772-9c8b4cc46605",
   "metadata": {},
   "outputs": [],
   "source": [
    "am = am[~duplicates2]"
   ]
  },
  {
   "cell_type": "code",
   "execution_count": 44,
   "id": "ec6f60fe-813a-4d6a-85f8-942b20ebc9fd",
   "metadata": {},
   "outputs": [
    {
     "name": "stdout",
     "output_type": "stream",
     "text": [
      "<class 'pandas.core.frame.DataFrame'>\n",
      "Index: 310 entries, 13 to 798\n",
      "Data columns (total 3 columns):\n",
      " #   Column           Non-Null Count  Dtype \n",
      "---  ------           --------------  ----- \n",
      " 0   ProductName      310 non-null    object\n",
      " 1   ProductPrice     310 non-null    int32 \n",
      " 2   ProductDiscount  310 non-null    int32 \n",
      "dtypes: int32(2), object(1)\n",
      "memory usage: 7.3+ KB\n"
     ]
    }
   ],
   "source": [
    "am.info()"
   ]
  },
  {
   "cell_type": "code",
   "execution_count": 45,
   "id": "4c31b23f-8f81-46e3-9b3b-d3cc4c53b2b7",
   "metadata": {},
   "outputs": [
    {
     "data": {
      "text/plain": [
       "(310, 3)"
      ]
     },
     "execution_count": 45,
     "metadata": {},
     "output_type": "execute_result"
    }
   ],
   "source": [
    "am.shape"
   ]
  },
  {
   "cell_type": "code",
   "execution_count": 46,
   "id": "4684f10b-ec4b-414d-a8a8-11ed4d30b02f",
   "metadata": {},
   "outputs": [],
   "source": [
    "#Adidas data - women"
   ]
  },
  {
   "cell_type": "code",
   "execution_count": 47,
   "id": "0b8eeab6-b6be-428b-ab0c-b1c0dea6c20b",
   "metadata": {},
   "outputs": [
    {
     "data": {
      "text/html": [
       "<div>\n",
       "<style scoped>\n",
       "    .dataframe tbody tr th:only-of-type {\n",
       "        vertical-align: middle;\n",
       "    }\n",
       "\n",
       "    .dataframe tbody tr th {\n",
       "        vertical-align: top;\n",
       "    }\n",
       "\n",
       "    .dataframe thead th {\n",
       "        text-align: right;\n",
       "    }\n",
       "</style>\n",
       "<table border=\"1\" class=\"dataframe\">\n",
       "  <thead>\n",
       "    <tr style=\"text-align: right;\">\n",
       "      <th></th>\n",
       "      <th>Unnamed: 0</th>\n",
       "      <th>ProductName</th>\n",
       "      <th>ProductPrice</th>\n",
       "      <th>ProductDiscount</th>\n",
       "    </tr>\n",
       "  </thead>\n",
       "  <tbody>\n",
       "    <tr>\n",
       "      <th>0</th>\n",
       "      <td>0</td>\n",
       "      <td>SweepIt W Running Shoes For Women</td>\n",
       "      <td>₹3,299</td>\n",
       "      <td>₹1,579</td>\n",
       "    </tr>\n",
       "    <tr>\n",
       "      <th>1</th>\n",
       "      <td>1</td>\n",
       "      <td>Contem X W Running Shoes For Women</td>\n",
       "      <td>₹3,999</td>\n",
       "      <td>₹1,679</td>\n",
       "    </tr>\n",
       "    <tr>\n",
       "      <th>2</th>\n",
       "      <td>2</td>\n",
       "      <td>Base-Strike W Running Shoes For Women</td>\n",
       "      <td>₹3,599</td>\n",
       "      <td>₹1,871</td>\n",
       "    </tr>\n",
       "    <tr>\n",
       "      <th>3</th>\n",
       "      <td>3</td>\n",
       "      <td>Base-Strike W Running Shoes For Women</td>\n",
       "      <td>₹3,599</td>\n",
       "      <td>₹1,871</td>\n",
       "    </tr>\n",
       "    <tr>\n",
       "      <th>4</th>\n",
       "      <td>4</td>\n",
       "      <td>StreetAhead W Running Shoes For Women</td>\n",
       "      <td>₹2,999</td>\n",
       "      <td>₹1,239</td>\n",
       "    </tr>\n",
       "  </tbody>\n",
       "</table>\n",
       "</div>"
      ],
      "text/plain": [
       "   Unnamed: 0                            ProductName ProductPrice  \\\n",
       "0           0      SweepIt W Running Shoes For Women       ₹3,299   \n",
       "1           1     Contem X W Running Shoes For Women       ₹3,999   \n",
       "2           2  Base-Strike W Running Shoes For Women       ₹3,599   \n",
       "3           3  Base-Strike W Running Shoes For Women       ₹3,599   \n",
       "4           4  StreetAhead W Running Shoes For Women       ₹2,999   \n",
       "\n",
       "  ProductDiscount  \n",
       "0          ₹1,579  \n",
       "1          ₹1,679  \n",
       "2          ₹1,871  \n",
       "3          ₹1,871  \n",
       "4          ₹1,239  "
      ]
     },
     "execution_count": 47,
     "metadata": {},
     "output_type": "execute_result"
    }
   ],
   "source": [
    "aw.head()"
   ]
  },
  {
   "cell_type": "code",
   "execution_count": 48,
   "id": "a50e4827-c97c-4c7c-9afa-65c390cce25b",
   "metadata": {},
   "outputs": [
    {
     "name": "stdout",
     "output_type": "stream",
     "text": [
      "<class 'pandas.core.frame.DataFrame'>\n",
      "RangeIndex: 400 entries, 0 to 399\n",
      "Data columns (total 4 columns):\n",
      " #   Column           Non-Null Count  Dtype \n",
      "---  ------           --------------  ----- \n",
      " 0   Unnamed: 0       400 non-null    int64 \n",
      " 1   ProductName      400 non-null    object\n",
      " 2   ProductPrice     382 non-null    object\n",
      " 3   ProductDiscount  400 non-null    object\n",
      "dtypes: int64(1), object(3)\n",
      "memory usage: 12.6+ KB\n"
     ]
    }
   ],
   "source": [
    "aw.info()"
   ]
  },
  {
   "cell_type": "code",
   "execution_count": 49,
   "id": "15973b9b-5613-4b30-9513-a28afc69faf9",
   "metadata": {},
   "outputs": [],
   "source": [
    "aw['ProductPrice'] = aw['ProductPrice'].fillna(aw['ProductDiscount'])"
   ]
  },
  {
   "cell_type": "code",
   "execution_count": 50,
   "id": "5942d9b9-8f71-48c0-9561-9fca1fd2834f",
   "metadata": {},
   "outputs": [],
   "source": [
    "aw['ProductPrice'] = aw['ProductPrice'].str.replace('₹', '').str.replace(',', '').astype(int)"
   ]
  },
  {
   "cell_type": "code",
   "execution_count": 51,
   "id": "00dcd261-fbdf-4938-baa1-e31bb2d7528d",
   "metadata": {},
   "outputs": [],
   "source": [
    "aw['ProductDiscount'] = aw['ProductDiscount'].str.replace('₹', '').str.replace(',', '').astype(int)"
   ]
  },
  {
   "cell_type": "code",
   "execution_count": 52,
   "id": "03be6d52-2c1f-4277-a9ee-b49e25564a8f",
   "metadata": {},
   "outputs": [],
   "source": [
    "aw = aw.drop(aw.columns[0], axis=1)"
   ]
  },
  {
   "cell_type": "code",
   "execution_count": 53,
   "id": "a9987bdc-d3e8-44e9-8000-550a5203f788",
   "metadata": {},
   "outputs": [
    {
     "name": "stdout",
     "output_type": "stream",
     "text": [
      "<class 'pandas.core.frame.DataFrame'>\n",
      "RangeIndex: 400 entries, 0 to 399\n",
      "Data columns (total 3 columns):\n",
      " #   Column           Non-Null Count  Dtype \n",
      "---  ------           --------------  ----- \n",
      " 0   ProductName      400 non-null    object\n",
      " 1   ProductPrice     400 non-null    int32 \n",
      " 2   ProductDiscount  400 non-null    int32 \n",
      "dtypes: int32(2), object(1)\n",
      "memory usage: 6.4+ KB\n"
     ]
    }
   ],
   "source": [
    "aw.info()"
   ]
  },
  {
   "cell_type": "code",
   "execution_count": 54,
   "id": "59a2d46e-2683-462a-850d-931b42b80ccf",
   "metadata": {},
   "outputs": [],
   "source": [
    "duplicates3 = aw.duplicated(subset=['ProductName', 'ProductPrice'], keep=False)"
   ]
  },
  {
   "cell_type": "code",
   "execution_count": 55,
   "id": "8734d47d-46b8-45f9-b601-032cbbe5a094",
   "metadata": {},
   "outputs": [],
   "source": [
    "aw = aw[~duplicates3]"
   ]
  },
  {
   "cell_type": "code",
   "execution_count": 56,
   "id": "978133de-04de-4c1d-b179-597a2565c903",
   "metadata": {},
   "outputs": [
    {
     "name": "stdout",
     "output_type": "stream",
     "text": [
      "<class 'pandas.core.frame.DataFrame'>\n",
      "Index: 244 entries, 0 to 399\n",
      "Data columns (total 3 columns):\n",
      " #   Column           Non-Null Count  Dtype \n",
      "---  ------           --------------  ----- \n",
      " 0   ProductName      244 non-null    object\n",
      " 1   ProductPrice     244 non-null    int32 \n",
      " 2   ProductDiscount  244 non-null    int32 \n",
      "dtypes: int32(2), object(1)\n",
      "memory usage: 5.7+ KB\n"
     ]
    }
   ],
   "source": [
    "aw.info()"
   ]
  },
  {
   "cell_type": "code",
   "execution_count": 57,
   "id": "14d69320-e3d3-4327-9d54-9c10b19dae5c",
   "metadata": {},
   "outputs": [
    {
     "data": {
      "text/plain": [
       "(244, 3)"
      ]
     },
     "execution_count": 57,
     "metadata": {},
     "output_type": "execute_result"
    }
   ],
   "source": [
    "aw.shape"
   ]
  },
  {
   "cell_type": "code",
   "execution_count": 58,
   "id": "1a4ce6c6-209c-495c-bb2d-208e8760b14e",
   "metadata": {},
   "outputs": [],
   "source": [
    "#Nike data - men"
   ]
  },
  {
   "cell_type": "code",
   "execution_count": 59,
   "id": "81b2e746-d239-4045-b896-353d8e1cc1c0",
   "metadata": {},
   "outputs": [
    {
     "data": {
      "text/html": [
       "<div>\n",
       "<style scoped>\n",
       "    .dataframe tbody tr th:only-of-type {\n",
       "        vertical-align: middle;\n",
       "    }\n",
       "\n",
       "    .dataframe tbody tr th {\n",
       "        vertical-align: top;\n",
       "    }\n",
       "\n",
       "    .dataframe thead th {\n",
       "        text-align: right;\n",
       "    }\n",
       "</style>\n",
       "<table border=\"1\" class=\"dataframe\">\n",
       "  <thead>\n",
       "    <tr style=\"text-align: right;\">\n",
       "      <th></th>\n",
       "      <th>Unnamed: 0</th>\n",
       "      <th>ProductName</th>\n",
       "      <th>ProductPrice</th>\n",
       "      <th>ProductDiscount</th>\n",
       "    </tr>\n",
       "  </thead>\n",
       "  <tbody>\n",
       "    <tr>\n",
       "      <th>0</th>\n",
       "      <td>0</td>\n",
       "      <td>Revolution 7 Running Shoes For Men</td>\n",
       "      <td>₹9,695</td>\n",
       "      <td>₹3,695</td>\n",
       "    </tr>\n",
       "    <tr>\n",
       "      <th>1</th>\n",
       "      <td>1</td>\n",
       "      <td>Winflo 9 Shield Running Shoes For Men</td>\n",
       "      <td>₹3,995</td>\n",
       "      <td>₹6,787</td>\n",
       "    </tr>\n",
       "    <tr>\n",
       "      <th>2</th>\n",
       "      <td>2</td>\n",
       "      <td>Downshifter 11 Road Running Running Shoes For Men</td>\n",
       "      <td>₹4,995</td>\n",
       "      <td>₹2,996</td>\n",
       "    </tr>\n",
       "    <tr>\n",
       "      <th>3</th>\n",
       "      <td>3</td>\n",
       "      <td>Flex Experience Run 11 Running Shoes For Men</td>\n",
       "      <td>₹4,995</td>\n",
       "      <td>₹3,497</td>\n",
       "    </tr>\n",
       "    <tr>\n",
       "      <th>4</th>\n",
       "      <td>4</td>\n",
       "      <td>Court Vision Lo Nn Basketball Shoes For Men</td>\n",
       "      <td>₹3,695</td>\n",
       "      <td>₹3,497</td>\n",
       "    </tr>\n",
       "  </tbody>\n",
       "</table>\n",
       "</div>"
      ],
      "text/plain": [
       "   Unnamed: 0                                        ProductName ProductPrice  \\\n",
       "0           0                 Revolution 7 Running Shoes For Men       ₹9,695   \n",
       "1           1              Winflo 9 Shield Running Shoes For Men       ₹3,995   \n",
       "2           2  Downshifter 11 Road Running Running Shoes For Men       ₹4,995   \n",
       "3           3       Flex Experience Run 11 Running Shoes For Men       ₹4,995   \n",
       "4           4        Court Vision Lo Nn Basketball Shoes For Men       ₹3,695   \n",
       "\n",
       "  ProductDiscount  \n",
       "0          ₹3,695  \n",
       "1          ₹6,787  \n",
       "2          ₹2,996  \n",
       "3          ₹3,497  \n",
       "4          ₹3,497  "
      ]
     },
     "execution_count": 59,
     "metadata": {},
     "output_type": "execute_result"
    }
   ],
   "source": [
    "nm.head()"
   ]
  },
  {
   "cell_type": "code",
   "execution_count": 60,
   "id": "0a2c30d4-34ec-4fa5-85a7-65683007d7bf",
   "metadata": {},
   "outputs": [
    {
     "data": {
      "text/plain": [
       "(800, 4)"
      ]
     },
     "execution_count": 60,
     "metadata": {},
     "output_type": "execute_result"
    }
   ],
   "source": [
    "nm.shape"
   ]
  },
  {
   "cell_type": "code",
   "execution_count": 61,
   "id": "373a1c3a-6aad-451e-9c9c-043547c66dc6",
   "metadata": {},
   "outputs": [
    {
     "name": "stdout",
     "output_type": "stream",
     "text": [
      "<class 'pandas.core.frame.DataFrame'>\n",
      "RangeIndex: 800 entries, 0 to 799\n",
      "Data columns (total 4 columns):\n",
      " #   Column           Non-Null Count  Dtype \n",
      "---  ------           --------------  ----- \n",
      " 0   Unnamed: 0       800 non-null    int64 \n",
      " 1   ProductName      800 non-null    object\n",
      " 2   ProductPrice     694 non-null    object\n",
      " 3   ProductDiscount  800 non-null    object\n",
      "dtypes: int64(1), object(3)\n",
      "memory usage: 25.1+ KB\n"
     ]
    }
   ],
   "source": [
    "nm.info()"
   ]
  },
  {
   "cell_type": "code",
   "execution_count": 62,
   "id": "fdc3af31-a49f-4f8a-baee-6ccb5e2caed3",
   "metadata": {},
   "outputs": [],
   "source": [
    "nm['ProductPrice'] = nm['ProductPrice'].fillna(nm['ProductDiscount'])"
   ]
  },
  {
   "cell_type": "code",
   "execution_count": 63,
   "id": "a0d409e1-bd9d-4947-a8c3-ff4e89c11b45",
   "metadata": {},
   "outputs": [],
   "source": [
    "nm['ProductPrice'] = nm['ProductPrice'].str.replace('₹', '').str.replace(',', '').astype(int)"
   ]
  },
  {
   "cell_type": "code",
   "execution_count": 64,
   "id": "760cc5d2-a573-446d-8eff-855f4671ef53",
   "metadata": {},
   "outputs": [],
   "source": [
    "nm['ProductDiscount'] = nm['ProductDiscount'].str.replace('₹', '').str.replace(',', '').astype(int)"
   ]
  },
  {
   "cell_type": "code",
   "execution_count": 65,
   "id": "ddbd1c9c-71e3-4327-9776-230a5cb63348",
   "metadata": {},
   "outputs": [],
   "source": [
    "nm = nm.drop(nm.columns[0], axis=1)"
   ]
  },
  {
   "cell_type": "code",
   "execution_count": 66,
   "id": "a0da1cfa-4c76-4cd6-b7c3-08c66fbcc905",
   "metadata": {},
   "outputs": [
    {
     "name": "stdout",
     "output_type": "stream",
     "text": [
      "<class 'pandas.core.frame.DataFrame'>\n",
      "RangeIndex: 800 entries, 0 to 799\n",
      "Data columns (total 3 columns):\n",
      " #   Column           Non-Null Count  Dtype \n",
      "---  ------           --------------  ----- \n",
      " 0   ProductName      800 non-null    object\n",
      " 1   ProductPrice     800 non-null    int32 \n",
      " 2   ProductDiscount  800 non-null    int32 \n",
      "dtypes: int32(2), object(1)\n",
      "memory usage: 12.6+ KB\n"
     ]
    }
   ],
   "source": [
    "nm.info()"
   ]
  },
  {
   "cell_type": "code",
   "execution_count": 67,
   "id": "787a519e-8e4b-44f6-be20-527550100494",
   "metadata": {},
   "outputs": [],
   "source": [
    "duplicates4 = nm.duplicated(subset=['ProductName', 'ProductPrice'], keep=False)"
   ]
  },
  {
   "cell_type": "code",
   "execution_count": 68,
   "id": "7d52bc49-2237-4ec5-886c-1d5f460b9274",
   "metadata": {},
   "outputs": [],
   "source": [
    "nm = nm[~duplicates4]"
   ]
  },
  {
   "cell_type": "code",
   "execution_count": 69,
   "id": "7f39b234-d1e2-4e72-a9ad-c84152a62b74",
   "metadata": {},
   "outputs": [
    {
     "name": "stdout",
     "output_type": "stream",
     "text": [
      "<class 'pandas.core.frame.DataFrame'>\n",
      "Index: 675 entries, 0 to 798\n",
      "Data columns (total 3 columns):\n",
      " #   Column           Non-Null Count  Dtype \n",
      "---  ------           --------------  ----- \n",
      " 0   ProductName      675 non-null    object\n",
      " 1   ProductPrice     675 non-null    int32 \n",
      " 2   ProductDiscount  675 non-null    int32 \n",
      "dtypes: int32(2), object(1)\n",
      "memory usage: 15.8+ KB\n"
     ]
    }
   ],
   "source": [
    "nm.info()"
   ]
  },
  {
   "cell_type": "code",
   "execution_count": 70,
   "id": "6f70f2d4-1b70-4662-a773-de43327eb701",
   "metadata": {},
   "outputs": [
    {
     "data": {
      "text/plain": [
       "(675, 3)"
      ]
     },
     "execution_count": 70,
     "metadata": {},
     "output_type": "execute_result"
    }
   ],
   "source": [
    "nm.shape"
   ]
  },
  {
   "cell_type": "code",
   "execution_count": 71,
   "id": "6e4e6d31-a001-4c49-926b-26bf7230f105",
   "metadata": {},
   "outputs": [],
   "source": [
    "#Nike data - women"
   ]
  },
  {
   "cell_type": "code",
   "execution_count": 72,
   "id": "ceb7e950-0b26-437d-bfdf-3a86d3b919b2",
   "metadata": {},
   "outputs": [
    {
     "data": {
      "text/html": [
       "<div>\n",
       "<style scoped>\n",
       "    .dataframe tbody tr th:only-of-type {\n",
       "        vertical-align: middle;\n",
       "    }\n",
       "\n",
       "    .dataframe tbody tr th {\n",
       "        vertical-align: top;\n",
       "    }\n",
       "\n",
       "    .dataframe thead th {\n",
       "        text-align: right;\n",
       "    }\n",
       "</style>\n",
       "<table border=\"1\" class=\"dataframe\">\n",
       "  <thead>\n",
       "    <tr style=\"text-align: right;\">\n",
       "      <th></th>\n",
       "      <th>Unnamed: 0</th>\n",
       "      <th>ProductName</th>\n",
       "      <th>ProductPrice</th>\n",
       "      <th>ProductDiscount</th>\n",
       "    </tr>\n",
       "  </thead>\n",
       "  <tbody>\n",
       "    <tr>\n",
       "      <th>0</th>\n",
       "      <td>0</td>\n",
       "      <td>Downshifter 12 Running Shoes For Women</td>\n",
       "      <td>₹3,995</td>\n",
       "      <td>₹3,395</td>\n",
       "    </tr>\n",
       "    <tr>\n",
       "      <th>1</th>\n",
       "      <td>1</td>\n",
       "      <td>Revolution 7 Running Shoes For Women</td>\n",
       "      <td>₹8,495</td>\n",
       "      <td>₹3,695</td>\n",
       "    </tr>\n",
       "    <tr>\n",
       "      <th>2</th>\n",
       "      <td>2</td>\n",
       "      <td>Running Shoes For Women</td>\n",
       "      <td>₹3,995</td>\n",
       "      <td>₹4,459</td>\n",
       "    </tr>\n",
       "    <tr>\n",
       "      <th>3</th>\n",
       "      <td>3</td>\n",
       "      <td>Downshifter 12 Running Shoes For Women</td>\n",
       "      <td>₹3,995</td>\n",
       "      <td>₹3,395</td>\n",
       "    </tr>\n",
       "    <tr>\n",
       "      <th>4</th>\n",
       "      <td>4</td>\n",
       "      <td>Downshifter 12 Running Shoes For Women</td>\n",
       "      <td>₹3,995</td>\n",
       "      <td>₹3,116</td>\n",
       "    </tr>\n",
       "  </tbody>\n",
       "</table>\n",
       "</div>"
      ],
      "text/plain": [
       "   Unnamed: 0                             ProductName ProductPrice  \\\n",
       "0           0  Downshifter 12 Running Shoes For Women       ₹3,995   \n",
       "1           1    Revolution 7 Running Shoes For Women       ₹8,495   \n",
       "2           2                 Running Shoes For Women       ₹3,995   \n",
       "3           3  Downshifter 12 Running Shoes For Women       ₹3,995   \n",
       "4           4  Downshifter 12 Running Shoes For Women       ₹3,995   \n",
       "\n",
       "  ProductDiscount  \n",
       "0          ₹3,395  \n",
       "1          ₹3,695  \n",
       "2          ₹4,459  \n",
       "3          ₹3,395  \n",
       "4          ₹3,116  "
      ]
     },
     "execution_count": 72,
     "metadata": {},
     "output_type": "execute_result"
    }
   ],
   "source": [
    "nw.head()"
   ]
  },
  {
   "cell_type": "code",
   "execution_count": 73,
   "id": "90578301-4bda-45e0-93cc-58e2daa4f837",
   "metadata": {},
   "outputs": [
    {
     "data": {
      "text/plain": [
       "(799, 4)"
      ]
     },
     "execution_count": 73,
     "metadata": {},
     "output_type": "execute_result"
    }
   ],
   "source": [
    "nw.shape"
   ]
  },
  {
   "cell_type": "code",
   "execution_count": 74,
   "id": "6c208b16-aeb0-4211-b71d-11ad235ceb99",
   "metadata": {},
   "outputs": [
    {
     "name": "stdout",
     "output_type": "stream",
     "text": [
      "<class 'pandas.core.frame.DataFrame'>\n",
      "RangeIndex: 799 entries, 0 to 798\n",
      "Data columns (total 4 columns):\n",
      " #   Column           Non-Null Count  Dtype \n",
      "---  ------           --------------  ----- \n",
      " 0   Unnamed: 0       799 non-null    int64 \n",
      " 1   ProductName      799 non-null    object\n",
      " 2   ProductPrice     711 non-null    object\n",
      " 3   ProductDiscount  799 non-null    object\n",
      "dtypes: int64(1), object(3)\n",
      "memory usage: 25.1+ KB\n"
     ]
    }
   ],
   "source": [
    "nw.info()"
   ]
  },
  {
   "cell_type": "code",
   "execution_count": 75,
   "id": "d40a8397-1ae4-4d9a-9741-80ef823c2eca",
   "metadata": {},
   "outputs": [],
   "source": [
    "nw['ProductPrice'] = nw['ProductPrice'].fillna(nw['ProductDiscount'])"
   ]
  },
  {
   "cell_type": "code",
   "execution_count": 76,
   "id": "22b1937c-227b-4fb8-8a04-50455fba35dc",
   "metadata": {},
   "outputs": [],
   "source": [
    "nw['ProductPrice'] = nw['ProductPrice'].str.replace('₹', '').str.replace(',', '').astype(int)"
   ]
  },
  {
   "cell_type": "code",
   "execution_count": 77,
   "id": "50863ee0-5600-47c7-b7a8-3ee34364c5ff",
   "metadata": {},
   "outputs": [],
   "source": [
    "nw['ProductDiscount'] = nw['ProductDiscount'].str.replace('₹', '').str.replace(',', '').astype(int)"
   ]
  },
  {
   "cell_type": "code",
   "execution_count": 78,
   "id": "47e3277c-a6cc-4e08-b872-92f3104c281f",
   "metadata": {},
   "outputs": [],
   "source": [
    "nw = nw.drop(nw.columns[0], axis=1)"
   ]
  },
  {
   "cell_type": "code",
   "execution_count": 79,
   "id": "cd4051da-b132-4633-8a44-5ab4c1533b20",
   "metadata": {},
   "outputs": [
    {
     "name": "stdout",
     "output_type": "stream",
     "text": [
      "<class 'pandas.core.frame.DataFrame'>\n",
      "RangeIndex: 799 entries, 0 to 798\n",
      "Data columns (total 3 columns):\n",
      " #   Column           Non-Null Count  Dtype \n",
      "---  ------           --------------  ----- \n",
      " 0   ProductName      799 non-null    object\n",
      " 1   ProductPrice     799 non-null    int32 \n",
      " 2   ProductDiscount  799 non-null    int32 \n",
      "dtypes: int32(2), object(1)\n",
      "memory usage: 12.6+ KB\n"
     ]
    }
   ],
   "source": [
    "nw.info()"
   ]
  },
  {
   "cell_type": "code",
   "execution_count": 80,
   "id": "a36fd0a8-7caa-4d8e-8c9d-1203b02558c6",
   "metadata": {},
   "outputs": [],
   "source": [
    "duplicates5 = nw.duplicated(subset=['ProductName', 'ProductPrice'], keep=False)"
   ]
  },
  {
   "cell_type": "code",
   "execution_count": 81,
   "id": "a8dab912-d09d-4c66-870c-abb500aa4d8c",
   "metadata": {},
   "outputs": [],
   "source": [
    "nw = nw[~duplicates5]"
   ]
  },
  {
   "cell_type": "code",
   "execution_count": 82,
   "id": "c99f8ef8-ea5f-4686-b234-a25390a4cc44",
   "metadata": {},
   "outputs": [
    {
     "name": "stdout",
     "output_type": "stream",
     "text": [
      "<class 'pandas.core.frame.DataFrame'>\n",
      "Index: 497 entries, 1 to 797\n",
      "Data columns (total 3 columns):\n",
      " #   Column           Non-Null Count  Dtype \n",
      "---  ------           --------------  ----- \n",
      " 0   ProductName      497 non-null    object\n",
      " 1   ProductPrice     497 non-null    int32 \n",
      " 2   ProductDiscount  497 non-null    int32 \n",
      "dtypes: int32(2), object(1)\n",
      "memory usage: 11.6+ KB\n"
     ]
    }
   ],
   "source": [
    "nw.info()"
   ]
  },
  {
   "cell_type": "code",
   "execution_count": 83,
   "id": "24dc4a74-2972-456e-8acc-4dbd29778f3d",
   "metadata": {},
   "outputs": [
    {
     "data": {
      "text/plain": [
       "(497, 3)"
      ]
     },
     "execution_count": 83,
     "metadata": {},
     "output_type": "execute_result"
    }
   ],
   "source": [
    "nw.shape"
   ]
  },
  {
   "cell_type": "code",
   "execution_count": 84,
   "id": "6382a5d8-2b22-41fa-9a6b-1c7eda614553",
   "metadata": {},
   "outputs": [],
   "source": [
    "#Skechers data - men"
   ]
  },
  {
   "cell_type": "code",
   "execution_count": 85,
   "id": "852e6098-70a3-46bb-b8de-02deb974b168",
   "metadata": {},
   "outputs": [
    {
     "data": {
      "text/html": [
       "<div>\n",
       "<style scoped>\n",
       "    .dataframe tbody tr th:only-of-type {\n",
       "        vertical-align: middle;\n",
       "    }\n",
       "\n",
       "    .dataframe tbody tr th {\n",
       "        vertical-align: top;\n",
       "    }\n",
       "\n",
       "    .dataframe thead th {\n",
       "        text-align: right;\n",
       "    }\n",
       "</style>\n",
       "<table border=\"1\" class=\"dataframe\">\n",
       "  <thead>\n",
       "    <tr style=\"text-align: right;\">\n",
       "      <th></th>\n",
       "      <th>Unnamed: 0</th>\n",
       "      <th>ProductName</th>\n",
       "      <th>ProductPrice</th>\n",
       "      <th>ProductDiscount</th>\n",
       "    </tr>\n",
       "  </thead>\n",
       "  <tbody>\n",
       "    <tr>\n",
       "      <th>0</th>\n",
       "      <td>0</td>\n",
       "      <td>TERRENEX Sneakers For Men</td>\n",
       "      <td>₹5,499</td>\n",
       "      <td>₹3,574</td>\n",
       "    </tr>\n",
       "    <tr>\n",
       "      <th>1</th>\n",
       "      <td>1</td>\n",
       "      <td>Modern Cool-Keene Walking Shoes For Men</td>\n",
       "      <td>₹4,299</td>\n",
       "      <td>₹3,499</td>\n",
       "    </tr>\n",
       "    <tr>\n",
       "      <th>2</th>\n",
       "      <td>2</td>\n",
       "      <td>SUMMITS - BRISBANE Sneakers For Men</td>\n",
       "      <td>₹4,999</td>\n",
       "      <td>₹3,224</td>\n",
       "    </tr>\n",
       "    <tr>\n",
       "      <th>3</th>\n",
       "      <td>3</td>\n",
       "      <td>Equalizer 3.0 Sneakers For Men</td>\n",
       "      <td>₹3,999</td>\n",
       "      <td>₹2,999</td>\n",
       "    </tr>\n",
       "    <tr>\n",
       "      <th>4</th>\n",
       "      <td>4</td>\n",
       "      <td>MODERN COOL Sneakers For Men</td>\n",
       "      <td>₹5,499</td>\n",
       "      <td>₹2,799</td>\n",
       "    </tr>\n",
       "  </tbody>\n",
       "</table>\n",
       "</div>"
      ],
      "text/plain": [
       "   Unnamed: 0                              ProductName ProductPrice  \\\n",
       "0           0                TERRENEX Sneakers For Men       ₹5,499   \n",
       "1           1  Modern Cool-Keene Walking Shoes For Men       ₹4,299   \n",
       "2           2      SUMMITS - BRISBANE Sneakers For Men       ₹4,999   \n",
       "3           3           Equalizer 3.0 Sneakers For Men       ₹3,999   \n",
       "4           4             MODERN COOL Sneakers For Men       ₹5,499   \n",
       "\n",
       "  ProductDiscount  \n",
       "0          ₹3,574  \n",
       "1          ₹3,499  \n",
       "2          ₹3,224  \n",
       "3          ₹2,999  \n",
       "4          ₹2,799  "
      ]
     },
     "execution_count": 85,
     "metadata": {},
     "output_type": "execute_result"
    }
   ],
   "source": [
    "sm.head()"
   ]
  },
  {
   "cell_type": "code",
   "execution_count": 86,
   "id": "661ca9ca-6130-4fec-971a-66e4b0df2832",
   "metadata": {},
   "outputs": [
    {
     "data": {
      "text/plain": [
       "(800, 4)"
      ]
     },
     "execution_count": 86,
     "metadata": {},
     "output_type": "execute_result"
    }
   ],
   "source": [
    "sm.shape"
   ]
  },
  {
   "cell_type": "code",
   "execution_count": 87,
   "id": "53f967b4-491a-408a-a69d-316a403818cf",
   "metadata": {},
   "outputs": [
    {
     "name": "stdout",
     "output_type": "stream",
     "text": [
      "<class 'pandas.core.frame.DataFrame'>\n",
      "RangeIndex: 800 entries, 0 to 799\n",
      "Data columns (total 4 columns):\n",
      " #   Column           Non-Null Count  Dtype \n",
      "---  ------           --------------  ----- \n",
      " 0   Unnamed: 0       800 non-null    int64 \n",
      " 1   ProductName      800 non-null    object\n",
      " 2   ProductPrice     624 non-null    object\n",
      " 3   ProductDiscount  800 non-null    object\n",
      "dtypes: int64(1), object(3)\n",
      "memory usage: 25.1+ KB\n"
     ]
    }
   ],
   "source": [
    "sm.info()"
   ]
  },
  {
   "cell_type": "code",
   "execution_count": 88,
   "id": "10e7425d-72d1-4272-abfa-4c74f38a7d11",
   "metadata": {},
   "outputs": [],
   "source": [
    "sm['ProductPrice'] = sm['ProductPrice'].fillna(sm['ProductDiscount'])"
   ]
  },
  {
   "cell_type": "code",
   "execution_count": 89,
   "id": "dfc3a095-7adb-44bb-82c5-79611bca6acf",
   "metadata": {},
   "outputs": [],
   "source": [
    "sm['ProductPrice'] = sm['ProductPrice'].str.replace('₹', '').str.replace(',', '').astype(int)"
   ]
  },
  {
   "cell_type": "code",
   "execution_count": 90,
   "id": "43b083ca-3499-4ec3-a471-c7aa9fb88c12",
   "metadata": {},
   "outputs": [],
   "source": [
    "sm['ProductDiscount'] = sm['ProductDiscount'].str.replace('₹', '').str.replace(',', '').astype(int)"
   ]
  },
  {
   "cell_type": "code",
   "execution_count": 91,
   "id": "520be82d-4add-44bf-bb41-a3dd23c1b03f",
   "metadata": {},
   "outputs": [],
   "source": [
    "sm = sm.drop(sm.columns[0], axis=1)"
   ]
  },
  {
   "cell_type": "code",
   "execution_count": 92,
   "id": "aef14a9a-de48-4ec9-9dce-cfaeb5c3c015",
   "metadata": {},
   "outputs": [
    {
     "name": "stdout",
     "output_type": "stream",
     "text": [
      "<class 'pandas.core.frame.DataFrame'>\n",
      "RangeIndex: 800 entries, 0 to 799\n",
      "Data columns (total 3 columns):\n",
      " #   Column           Non-Null Count  Dtype \n",
      "---  ------           --------------  ----- \n",
      " 0   ProductName      800 non-null    object\n",
      " 1   ProductPrice     800 non-null    int32 \n",
      " 2   ProductDiscount  800 non-null    int32 \n",
      "dtypes: int32(2), object(1)\n",
      "memory usage: 12.6+ KB\n"
     ]
    }
   ],
   "source": [
    "sm.info()"
   ]
  },
  {
   "cell_type": "code",
   "execution_count": 93,
   "id": "36cfb808-1d29-4d91-8492-00eab3528bd4",
   "metadata": {},
   "outputs": [],
   "source": [
    "duplicates6 = sm.duplicated(subset=['ProductName', 'ProductPrice'], keep=False)"
   ]
  },
  {
   "cell_type": "code",
   "execution_count": 94,
   "id": "c0c688c1-fc1a-4498-b6cd-352d95603835",
   "metadata": {},
   "outputs": [],
   "source": [
    "sm = sm[~duplicates6]"
   ]
  },
  {
   "cell_type": "code",
   "execution_count": 95,
   "id": "14aee5b4-36fb-4b22-8160-4eee76da7217",
   "metadata": {},
   "outputs": [
    {
     "name": "stdout",
     "output_type": "stream",
     "text": [
      "<class 'pandas.core.frame.DataFrame'>\n",
      "Index: 702 entries, 1 to 798\n",
      "Data columns (total 3 columns):\n",
      " #   Column           Non-Null Count  Dtype \n",
      "---  ------           --------------  ----- \n",
      " 0   ProductName      702 non-null    object\n",
      " 1   ProductPrice     702 non-null    int32 \n",
      " 2   ProductDiscount  702 non-null    int32 \n",
      "dtypes: int32(2), object(1)\n",
      "memory usage: 16.5+ KB\n"
     ]
    }
   ],
   "source": [
    "sm.info()"
   ]
  },
  {
   "cell_type": "code",
   "execution_count": 96,
   "id": "005a31f0-bc58-490b-8fae-b997c732e2d9",
   "metadata": {},
   "outputs": [
    {
     "data": {
      "text/plain": [
       "(702, 3)"
      ]
     },
     "execution_count": 96,
     "metadata": {},
     "output_type": "execute_result"
    }
   ],
   "source": [
    "sm.shape"
   ]
  },
  {
   "cell_type": "code",
   "execution_count": 97,
   "id": "69a9f00b-a82a-4a70-b550-2523a58f7c51",
   "metadata": {},
   "outputs": [],
   "source": [
    "#Skechers data - women"
   ]
  },
  {
   "cell_type": "code",
   "execution_count": 98,
   "id": "4271a58a-e883-4c12-a4a5-e08abf2f6b6e",
   "metadata": {},
   "outputs": [
    {
     "data": {
      "text/html": [
       "<div>\n",
       "<style scoped>\n",
       "    .dataframe tbody tr th:only-of-type {\n",
       "        vertical-align: middle;\n",
       "    }\n",
       "\n",
       "    .dataframe tbody tr th {\n",
       "        vertical-align: top;\n",
       "    }\n",
       "\n",
       "    .dataframe thead th {\n",
       "        text-align: right;\n",
       "    }\n",
       "</style>\n",
       "<table border=\"1\" class=\"dataframe\">\n",
       "  <thead>\n",
       "    <tr style=\"text-align: right;\">\n",
       "      <th></th>\n",
       "      <th>Unnamed: 0</th>\n",
       "      <th>ProductName</th>\n",
       "      <th>ProductPrice</th>\n",
       "      <th>ProductDiscount</th>\n",
       "    </tr>\n",
       "  </thead>\n",
       "  <tbody>\n",
       "    <tr>\n",
       "      <th>0</th>\n",
       "      <td>0</td>\n",
       "      <td>ARCH FIT-MODERN RHYTHM Walking Shoes For Women</td>\n",
       "      <td>₹7,499</td>\n",
       "      <td>₹4,499</td>\n",
       "    </tr>\n",
       "    <tr>\n",
       "      <th>1</th>\n",
       "      <td>1</td>\n",
       "      <td>BOBS SQUAD CHAOS-STE Sneakers For Women</td>\n",
       "      <td>₹6,499</td>\n",
       "      <td>₹3,021</td>\n",
       "    </tr>\n",
       "    <tr>\n",
       "      <th>2</th>\n",
       "      <td>2</td>\n",
       "      <td>GO WALK JOY-PARADISE Running Shoes For Women</td>\n",
       "      <td>₹5,499</td>\n",
       "      <td>₹3,299</td>\n",
       "    </tr>\n",
       "    <tr>\n",
       "      <th>3</th>\n",
       "      <td>3</td>\n",
       "      <td>FLEX APPEAL 4.0-ACTIVE FLOW Running Shoes For ...</td>\n",
       "      <td>₹6,999</td>\n",
       "      <td>₹3,119</td>\n",
       "    </tr>\n",
       "    <tr>\n",
       "      <th>4</th>\n",
       "      <td>4</td>\n",
       "      <td>GO WALK JOY -WONDERFUL SPRING Walking Shoes Fo...</td>\n",
       "      <td>₹5,999</td>\n",
       "      <td>₹2,579</td>\n",
       "    </tr>\n",
       "  </tbody>\n",
       "</table>\n",
       "</div>"
      ],
      "text/plain": [
       "   Unnamed: 0                                        ProductName ProductPrice  \\\n",
       "0           0     ARCH FIT-MODERN RHYTHM Walking Shoes For Women       ₹7,499   \n",
       "1           1            BOBS SQUAD CHAOS-STE Sneakers For Women       ₹6,499   \n",
       "2           2       GO WALK JOY-PARADISE Running Shoes For Women       ₹5,499   \n",
       "3           3  FLEX APPEAL 4.0-ACTIVE FLOW Running Shoes For ...       ₹6,999   \n",
       "4           4  GO WALK JOY -WONDERFUL SPRING Walking Shoes Fo...       ₹5,999   \n",
       "\n",
       "  ProductDiscount  \n",
       "0          ₹4,499  \n",
       "1          ₹3,021  \n",
       "2          ₹3,299  \n",
       "3          ₹3,119  \n",
       "4          ₹2,579  "
      ]
     },
     "execution_count": 98,
     "metadata": {},
     "output_type": "execute_result"
    }
   ],
   "source": [
    "sw.head()"
   ]
  },
  {
   "cell_type": "code",
   "execution_count": 99,
   "id": "a491d80d-bedf-4d1a-91fe-6f85f3c47d5d",
   "metadata": {},
   "outputs": [
    {
     "data": {
      "text/plain": [
       "(800, 4)"
      ]
     },
     "execution_count": 99,
     "metadata": {},
     "output_type": "execute_result"
    }
   ],
   "source": [
    "sw.shape"
   ]
  },
  {
   "cell_type": "code",
   "execution_count": 100,
   "id": "c94b0f2a-5eb5-404b-afbd-ab77ec29f451",
   "metadata": {},
   "outputs": [
    {
     "name": "stdout",
     "output_type": "stream",
     "text": [
      "<class 'pandas.core.frame.DataFrame'>\n",
      "RangeIndex: 800 entries, 0 to 799\n",
      "Data columns (total 4 columns):\n",
      " #   Column           Non-Null Count  Dtype \n",
      "---  ------           --------------  ----- \n",
      " 0   Unnamed: 0       800 non-null    int64 \n",
      " 1   ProductName      800 non-null    object\n",
      " 2   ProductPrice     746 non-null    object\n",
      " 3   ProductDiscount  800 non-null    object\n",
      "dtypes: int64(1), object(3)\n",
      "memory usage: 25.1+ KB\n"
     ]
    }
   ],
   "source": [
    "sw.info()"
   ]
  },
  {
   "cell_type": "code",
   "execution_count": 101,
   "id": "21b6a9b8-a6ed-4eaa-ace3-4b5cd0a3d07d",
   "metadata": {},
   "outputs": [],
   "source": [
    "sw['ProductPrice'] = sw['ProductPrice'].fillna(sw['ProductDiscount'])"
   ]
  },
  {
   "cell_type": "code",
   "execution_count": 102,
   "id": "5a61df1c-27ed-4f6c-ad73-321067358bd4",
   "metadata": {},
   "outputs": [],
   "source": [
    "sw['ProductPrice'] = sw['ProductPrice'].str.replace('₹', '').str.replace(',', '').astype(int)"
   ]
  },
  {
   "cell_type": "code",
   "execution_count": 103,
   "id": "c876199a-3752-4f86-a7bb-4594f30c1099",
   "metadata": {},
   "outputs": [],
   "source": [
    "sw['ProductDiscount'] = sw['ProductDiscount'].str.replace('₹', '').str.replace(',', '').astype(int)"
   ]
  },
  {
   "cell_type": "code",
   "execution_count": 104,
   "id": "9ab765e4-e0e8-48a3-9af8-02c00bc1c0ea",
   "metadata": {},
   "outputs": [],
   "source": [
    "sw = sw.drop(sw.columns[0], axis=1)"
   ]
  },
  {
   "cell_type": "code",
   "execution_count": 105,
   "id": "0cff537a-48fb-444e-8eef-451b77580d7b",
   "metadata": {},
   "outputs": [
    {
     "name": "stdout",
     "output_type": "stream",
     "text": [
      "<class 'pandas.core.frame.DataFrame'>\n",
      "RangeIndex: 800 entries, 0 to 799\n",
      "Data columns (total 3 columns):\n",
      " #   Column           Non-Null Count  Dtype \n",
      "---  ------           --------------  ----- \n",
      " 0   ProductName      800 non-null    object\n",
      " 1   ProductPrice     800 non-null    int32 \n",
      " 2   ProductDiscount  800 non-null    int32 \n",
      "dtypes: int32(2), object(1)\n",
      "memory usage: 12.6+ KB\n"
     ]
    }
   ],
   "source": [
    "sw.info()"
   ]
  },
  {
   "cell_type": "code",
   "execution_count": 106,
   "id": "76644fee-18e7-4d07-924b-c0bcdfbceab2",
   "metadata": {},
   "outputs": [],
   "source": [
    "duplicates7 = sw.duplicated(subset=['ProductName', 'ProductPrice'], keep=False)"
   ]
  },
  {
   "cell_type": "code",
   "execution_count": 107,
   "id": "6c3ec857-eac4-4bdf-9652-e2c397f3d525",
   "metadata": {},
   "outputs": [],
   "source": [
    "sw = sw[~duplicates7]"
   ]
  },
  {
   "cell_type": "code",
   "execution_count": 108,
   "id": "87d11b2d-a9a6-44dd-91a2-e8737dc39c20",
   "metadata": {},
   "outputs": [
    {
     "name": "stdout",
     "output_type": "stream",
     "text": [
      "<class 'pandas.core.frame.DataFrame'>\n",
      "Index: 620 entries, 0 to 799\n",
      "Data columns (total 3 columns):\n",
      " #   Column           Non-Null Count  Dtype \n",
      "---  ------           --------------  ----- \n",
      " 0   ProductName      620 non-null    object\n",
      " 1   ProductPrice     620 non-null    int32 \n",
      " 2   ProductDiscount  620 non-null    int32 \n",
      "dtypes: int32(2), object(1)\n",
      "memory usage: 14.5+ KB\n"
     ]
    }
   ],
   "source": [
    "sw.info()"
   ]
  },
  {
   "cell_type": "code",
   "execution_count": 109,
   "id": "2dc1be20-b9bb-4d12-b35e-713544f9c6bd",
   "metadata": {},
   "outputs": [
    {
     "data": {
      "text/plain": [
       "(620, 3)"
      ]
     },
     "execution_count": 109,
     "metadata": {},
     "output_type": "execute_result"
    }
   ],
   "source": [
    "sw.shape"
   ]
  },
  {
   "cell_type": "markdown",
   "id": "80410978-187d-44c4-91e8-80a76746ba86",
   "metadata": {},
   "source": [
    "**Data Exporting**"
   ]
  },
  {
   "cell_type": "code",
   "execution_count": 110,
   "id": "95b142ad-c9c9-42b5-8113-e1f5c718f5de",
   "metadata": {},
   "outputs": [],
   "source": [
    "#Adding Brand and Gender columns"
   ]
  },
  {
   "cell_type": "code",
   "execution_count": 111,
   "id": "75976de3-30a1-4deb-add4-b43d0e8d2fb9",
   "metadata": {},
   "outputs": [],
   "source": [
    "pm['Brand'] = 'Puma'"
   ]
  },
  {
   "cell_type": "code",
   "execution_count": 112,
   "id": "4d90efd0-33b5-4362-a37f-2cc8aa2e529d",
   "metadata": {},
   "outputs": [],
   "source": [
    "pm['Gender'] = 'Men'"
   ]
  },
  {
   "cell_type": "code",
   "execution_count": 113,
   "id": "abb43861-c14d-4fe5-8f31-f76007428c89",
   "metadata": {},
   "outputs": [],
   "source": [
    "pm.to_csv(\"pm.csv\", index=False)"
   ]
  },
  {
   "cell_type": "code",
   "execution_count": 114,
   "id": "5cd2dce6-4186-453d-ae28-fa6fa9a4517b",
   "metadata": {},
   "outputs": [],
   "source": [
    "pw['Brand'] = 'Puma'"
   ]
  },
  {
   "cell_type": "code",
   "execution_count": 115,
   "id": "eb36adca-946b-423d-a724-cfa25f753e86",
   "metadata": {},
   "outputs": [],
   "source": [
    "pw['Gender'] = 'Women'"
   ]
  },
  {
   "cell_type": "code",
   "execution_count": 116,
   "id": "5192fd66-96ef-4c59-a49f-b196c74b85bc",
   "metadata": {},
   "outputs": [],
   "source": [
    "pw.to_csv(\"pw.csv\", index=False)"
   ]
  },
  {
   "cell_type": "code",
   "execution_count": 117,
   "id": "8c2778ef-d7ab-4107-a857-cef2514d9245",
   "metadata": {},
   "outputs": [],
   "source": [
    "am['Brand'] = 'Adidas'"
   ]
  },
  {
   "cell_type": "code",
   "execution_count": 118,
   "id": "f1bc0b53-ff22-4ec6-8b33-06fc25e781e4",
   "metadata": {},
   "outputs": [],
   "source": [
    "am['Gender'] = 'Men'"
   ]
  },
  {
   "cell_type": "code",
   "execution_count": 119,
   "id": "c0cda4ba-62c6-4e41-b2e5-d71fe7c01bcf",
   "metadata": {},
   "outputs": [],
   "source": [
    "am.to_csv(\"am.csv\", index=False)"
   ]
  },
  {
   "cell_type": "code",
   "execution_count": 120,
   "id": "a102a498-02de-4148-bef5-90d3b3aafd27",
   "metadata": {},
   "outputs": [],
   "source": [
    "aw['Brand'] = 'Adidas'"
   ]
  },
  {
   "cell_type": "code",
   "execution_count": 121,
   "id": "ee10a384-8f17-443b-a513-69813737f0b4",
   "metadata": {},
   "outputs": [],
   "source": [
    "aw['Gender'] = 'Women'"
   ]
  },
  {
   "cell_type": "code",
   "execution_count": 122,
   "id": "f2239892-1cd8-4412-9792-e0c776782882",
   "metadata": {},
   "outputs": [],
   "source": [
    "aw.to_csv(\"aw.csv\", index=False)"
   ]
  },
  {
   "cell_type": "code",
   "execution_count": 123,
   "id": "abc18921-7935-4b7b-b7e8-97d7b07b022c",
   "metadata": {},
   "outputs": [],
   "source": [
    "nm['Brand'] = 'Nike'"
   ]
  },
  {
   "cell_type": "code",
   "execution_count": 124,
   "id": "fcf5e760-7710-4cf5-817d-221da065963a",
   "metadata": {},
   "outputs": [],
   "source": [
    "nm['Gender'] = 'Men'"
   ]
  },
  {
   "cell_type": "code",
   "execution_count": 125,
   "id": "6c7abc04-6a23-44bb-bf20-f625f99cd992",
   "metadata": {},
   "outputs": [],
   "source": [
    "nm.to_csv(\"nm.csv\", index=False)"
   ]
  },
  {
   "cell_type": "code",
   "execution_count": 126,
   "id": "c3228b24-93e2-4a0b-8e96-aeeded44cfeb",
   "metadata": {},
   "outputs": [],
   "source": [
    "nw['Brand'] = 'Nike'"
   ]
  },
  {
   "cell_type": "code",
   "execution_count": 127,
   "id": "38cb5297-7e2b-4e3a-93c5-b54ef5311391",
   "metadata": {},
   "outputs": [],
   "source": [
    "nw['Gender'] = 'Women'"
   ]
  },
  {
   "cell_type": "code",
   "execution_count": 128,
   "id": "6a3c87c8-e6ae-48cc-996f-a72b37694bf0",
   "metadata": {},
   "outputs": [],
   "source": [
    "nw.to_csv(\"nw.csv\", index=False)"
   ]
  },
  {
   "cell_type": "code",
   "execution_count": 129,
   "id": "9b1f2c86-f077-4998-9ec0-583181481d47",
   "metadata": {},
   "outputs": [],
   "source": [
    "sm['Brand'] = 'Skechers'"
   ]
  },
  {
   "cell_type": "code",
   "execution_count": 130,
   "id": "5a92ea8d-416c-4022-ae71-8d04463e424f",
   "metadata": {},
   "outputs": [],
   "source": [
    "sm['Gender'] = 'Men'"
   ]
  },
  {
   "cell_type": "code",
   "execution_count": 131,
   "id": "d8f3ca42-5fd5-4816-8d2c-ab1332e8b08d",
   "metadata": {},
   "outputs": [],
   "source": [
    "sm.to_csv(\"sm.csv\", index=False)"
   ]
  },
  {
   "cell_type": "code",
   "execution_count": 132,
   "id": "5aac1c3a-9d1c-4a24-b399-d66c7c205628",
   "metadata": {},
   "outputs": [],
   "source": [
    "sw['Brand'] = 'Skechers'"
   ]
  },
  {
   "cell_type": "code",
   "execution_count": 133,
   "id": "053e08e4-a2ef-4760-9e9e-40a43409f7ea",
   "metadata": {},
   "outputs": [],
   "source": [
    "sw['Gender'] = 'Women'"
   ]
  },
  {
   "cell_type": "code",
   "execution_count": 134,
   "id": "4f5c9e74-bb63-4c28-bea5-ed006d8f179a",
   "metadata": {},
   "outputs": [],
   "source": [
    "sw.to_csv(\"sw.csv\", index=False)"
   ]
  },
  {
   "cell_type": "code",
   "execution_count": 135,
   "id": "350fb1b5-a7d4-4ca2-b409-c2ff620c2496",
   "metadata": {},
   "outputs": [],
   "source": [
    "#Concatenate CSV files"
   ]
  },
  {
   "cell_type": "code",
   "execution_count": 136,
   "id": "b5eed875-70e1-4596-ada8-4116c940a7ab",
   "metadata": {},
   "outputs": [],
   "source": [
    "csv_files = [\"pm.csv\", \"pw.csv\", \"am.csv\", \"aw.csv\", \"nm.csv\", \"nw.csv\", \"sm.csv\", \"sw.csv\"]"
   ]
  },
  {
   "cell_type": "code",
   "execution_count": 137,
   "id": "f34ccba4-cdec-414e-9c01-4226e2a4d33a",
   "metadata": {},
   "outputs": [],
   "source": [
    "dataframes = []\n",
    "for file in csv_files:\n",
    "    df = pd.read_csv(file) \n",
    "    dataframes.append(df) \n",
    "concatenated_df = pd.concat(dataframes, ignore_index=True)"
   ]
  },
  {
   "cell_type": "code",
   "execution_count": 138,
   "id": "dfc9e011-6370-4556-9bdb-a1e692fd832c",
   "metadata": {},
   "outputs": [
    {
     "data": {
      "text/plain": [
       "(3809, 5)"
      ]
     },
     "execution_count": 138,
     "metadata": {},
     "output_type": "execute_result"
    }
   ],
   "source": [
    "concatenated_df.shape"
   ]
  },
  {
   "cell_type": "code",
   "execution_count": 139,
   "id": "2186a0d6-be40-4dcf-b2a2-237001ac79f5",
   "metadata": {},
   "outputs": [
    {
     "data": {
      "text/html": [
       "<div>\n",
       "<style scoped>\n",
       "    .dataframe tbody tr th:only-of-type {\n",
       "        vertical-align: middle;\n",
       "    }\n",
       "\n",
       "    .dataframe tbody tr th {\n",
       "        vertical-align: top;\n",
       "    }\n",
       "\n",
       "    .dataframe thead th {\n",
       "        text-align: right;\n",
       "    }\n",
       "</style>\n",
       "<table border=\"1\" class=\"dataframe\">\n",
       "  <thead>\n",
       "    <tr style=\"text-align: right;\">\n",
       "      <th></th>\n",
       "      <th>ProductName</th>\n",
       "      <th>ProductPrice</th>\n",
       "      <th>ProductDiscount</th>\n",
       "      <th>Brand</th>\n",
       "      <th>Gender</th>\n",
       "    </tr>\n",
       "  </thead>\n",
       "  <tbody>\n",
       "    <tr>\n",
       "      <th>0</th>\n",
       "      <td>Rungryp Sneakers For Men</td>\n",
       "      <td>4999</td>\n",
       "      <td>2350</td>\n",
       "      <td>Puma</td>\n",
       "      <td>Men</td>\n",
       "    </tr>\n",
       "    <tr>\n",
       "      <th>1</th>\n",
       "      <td>Puma Buzz Sneakers For Men</td>\n",
       "      <td>4499</td>\n",
       "      <td>1299</td>\n",
       "      <td>Puma</td>\n",
       "      <td>Men</td>\n",
       "    </tr>\n",
       "    <tr>\n",
       "      <th>2</th>\n",
       "      <td>MERCEDES AMG PETRONAS Drift Cat Ultra Casuals ...</td>\n",
       "      <td>6999</td>\n",
       "      <td>5599</td>\n",
       "      <td>Puma</td>\n",
       "      <td>Men</td>\n",
       "    </tr>\n",
       "    <tr>\n",
       "      <th>3</th>\n",
       "      <td>Puma Pwrflow Slipon Running Shoes For Men</td>\n",
       "      <td>3999</td>\n",
       "      <td>2399</td>\n",
       "      <td>Puma</td>\n",
       "      <td>Men</td>\n",
       "    </tr>\n",
       "    <tr>\n",
       "      <th>4</th>\n",
       "      <td>Buzz Casuals For Men</td>\n",
       "      <td>4499</td>\n",
       "      <td>1299</td>\n",
       "      <td>Puma</td>\n",
       "      <td>Men</td>\n",
       "    </tr>\n",
       "  </tbody>\n",
       "</table>\n",
       "</div>"
      ],
      "text/plain": [
       "                                         ProductName  ProductPrice  \\\n",
       "0                           Rungryp Sneakers For Men          4999   \n",
       "1                         Puma Buzz Sneakers For Men          4499   \n",
       "2  MERCEDES AMG PETRONAS Drift Cat Ultra Casuals ...          6999   \n",
       "3          Puma Pwrflow Slipon Running Shoes For Men          3999   \n",
       "4                               Buzz Casuals For Men          4499   \n",
       "\n",
       "   ProductDiscount Brand Gender  \n",
       "0             2350  Puma    Men  \n",
       "1             1299  Puma    Men  \n",
       "2             5599  Puma    Men  \n",
       "3             2399  Puma    Men  \n",
       "4             1299  Puma    Men  "
      ]
     },
     "execution_count": 139,
     "metadata": {},
     "output_type": "execute_result"
    }
   ],
   "source": [
    "concatenated_df.head()"
   ]
  },
  {
   "cell_type": "code",
   "execution_count": 142,
   "id": "2b015843-02f2-4e10-99bb-22c864ed19ee",
   "metadata": {},
   "outputs": [],
   "source": [
    "#Exporting data through CSV"
   ]
  },
  {
   "cell_type": "code",
   "execution_count": 144,
   "id": "48d2cf0c-4fca-4d4d-bc26-7627495ef895",
   "metadata": {},
   "outputs": [],
   "source": [
    "concatenated_df.to_csv(\"productData.csv\", index=False)"
   ]
  },
  {
   "cell_type": "code",
   "execution_count": null,
   "id": "8726ef91-a4b0-4965-8df2-dc9cd456dcb3",
   "metadata": {},
   "outputs": [],
   "source": []
  }
 ],
 "metadata": {
  "kernelspec": {
   "display_name": "Python 3 (ipykernel)",
   "language": "python",
   "name": "python3"
  },
  "language_info": {
   "codemirror_mode": {
    "name": "ipython",
    "version": 3
   },
   "file_extension": ".py",
   "mimetype": "text/x-python",
   "name": "python",
   "nbconvert_exporter": "python",
   "pygments_lexer": "ipython3",
   "version": "3.12.0"
  }
 },
 "nbformat": 4,
 "nbformat_minor": 5
}
